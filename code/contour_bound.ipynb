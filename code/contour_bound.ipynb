{
 "cells": [
  {
   "cell_type": "code",
   "execution_count": 1,
   "metadata": {},
   "outputs": [
    {
     "name": "stdout",
     "output_type": "stream",
     "text": [
      "Populating the interactive namespace from numpy and matplotlib\n"
     ]
    }
   ],
   "source": [
    "%pylab inline\n",
    "\n",
    "import numpy as np\n",
    "import matplotlib.cm as cm\n",
    "import matplotlib.pyplot as plt\n",
    "\n",
    "import math\n",
    "\n",
    "import seaborn as sns\n",
    "sns.set_context(\"talk\")\n",
    "\n",
    "# programatically instantiate figures to latex\n",
    "save_fig = False\n",
    "# modify to save figure in a different location\n",
    "fig_name = \"contour_plot.pdf\""
   ]
  },
  {
   "cell_type": "markdown",
   "metadata": {},
   "source": [
    "## This notebook plots the lower bound from claim 4.4 of the paper."
   ]
  },
  {
   "cell_type": "code",
   "execution_count": 2,
   "metadata": {},
   "outputs": [
    {
     "data": {
      "image/png": "[encoded data removed]",
      "text/plain": [
       "<Figure size 360x288 with 2 Axes>"
      ]
     },
     "metadata": {
      "needs_background": "light"
     },
     "output_type": "display_data"
    }
   ],
   "source": [
    "sigma_w = 1\n",
    "sigma_p = 1\n",
    "sigma_e_p = .1\n",
    "sigma_e_w = .5\n",
    "\n",
    "def lower_bound(alpha, rho):\n",
    "    sigma_y_sq = alpha**2 * sigma_w**2 \\\n",
    "                    + (1-alpha)**2 * sigma_p**2 \\\n",
    "                    + 2* rho *alpha * (1-alpha)* sigma_w* sigma_p\n",
    "    sigma_tilde_sq = (alpha**2 * sigma_e_w**2 \n",
    "                         + (1-alpha)**2 * sigma_e_p**2 ) \\\n",
    "    \n",
    "    E_u_opt = np.sqrt(sigma_y_sq) / np.sqrt(2 * math.pi)\n",
    "    \n",
    "    c = 2\n",
    "    additive_bound = E_u_opt * (1 - (c * sigma_tilde_sq / (sigma_tilde_sq + sigma_y_sq)))\n",
    "\n",
    "    return additive_bound\n",
    "\n",
    "lb_v = np.vectorize(lower_bound) \n",
    "\n",
    "# make meshgrid of alphas, rhos to plot over\n",
    "delta = 0.025\n",
    "alphas = np.arange(0.0, 1.0+delta, delta)\n",
    "rhos = np.arange(-1.0, 1.0+delta, delta)\n",
    "alphas_grid, rhos_grid = np.meshgrid(alphas, rhos)\n",
    "\n",
    "\n",
    "# make figure\n",
    "fig, ax = plt.subplots(figsize=(5,4))\n",
    "\n",
    "cp = ax.contourf(alphas_grid, \n",
    "                 rhos_grid, \n",
    "                 lb_v(alphas_grid, rhos_grid),\n",
    "\n",
    "                )\n",
    "plt.colorbar(cp)\n",
    "\n",
    "\n",
    "# labels and formatting\n",
    "ax.set_xlabel(r'$\\alpha$')\n",
    "ax.set_ylabel(r'$\\rho$')\n",
    "\n",
    "ax.set_xticks(np.linspace(0,1,num=5));\n",
    "ax.set_xticks(np.linspace(0,1,num=9),minor=True);\n",
    "ax.set_yticks(np.linspace(-1,1,num=5));\n",
    "ax.set_yticks(np.linspace(-1,1,num=9),minor=True);\n",
    "\n",
    "if save_fig:\n",
    "    plt.savefig(fig_name,bbox_inches='tight')\n",
    "\n"
   ]
  }
 ],
 "metadata": {
  "kernelspec": {
   "display_name": "Python 3",
   "language": "python",
   "name": "python3"
  },
  "language_info": {
   "codemirror_mode": {
    "name": "ipython",
    "version": 3
   },
   "file_extension": ".py",
   "mimetype": "text/x-python",
   "name": "python",
   "nbconvert_exporter": "python",
   "pygments_lexer": "ipython3",
   "version": "3.7.1"
  }
 },
 "nbformat": 4,
 "nbformat_minor": 2
}
